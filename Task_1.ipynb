{
 "cells": [
  {
   "cell_type": "code",
   "execution_count": null,
   "id": "41f4589b",
   "metadata": {},
   "outputs": [],
   "source": [
    "# Import necessary libraries\n",
    "import pandas as pd\n",
    "import numpy as np\n",
    "import matplotlib.pyplot as plt\n",
    "import seaborn as sns\n",
    "from sklearn.preprocessing import StandardScaler\n"
   ]
  },
  {
   "cell_type": "code",
   "execution_count": null,
   "id": "6f902419",
   "metadata": {},
   "outputs": [],
   "source": [
    "# Step 1: Load the dataset\n",
    "df = pd.read_csv(\"Titanic_Dataset.csv\")\n",
    "\n",
    "print(\"Basic Info:\\n\")\n",
    "print(df.info())\n",
    "print(\"\\nMissing Values:\\n\")\n",
    "print(df.isnull().sum())\n",
    "print(\"\\nSample Data:\\n\")\n",
    "print(df.head())"
   ]
  },
  {
   "cell_type": "code",
   "execution_count": null,
   "id": "a4b5d0bc",
   "metadata": {},
   "outputs": [],
   "source": [
    "\n",
    "df_cleaned = df.copy()\n",
    "df_cleaned.drop(columns='Cabin', inplace=True)\n",
    "df_cleaned['Age'].fillna(df_cleaned['Age'].median(), inplace=True)\n",
    "df_cleaned['Embarked'].fillna(df_cleaned['Embarked'].mode()[0], inplace=True)\n",
    "print(\"\\nRemaining Missing Values:\\n\")\n",
    "print(df_cleaned.isnull().sum())\n",
    "\n",
    "df_encoded = pd.get_dummies(df_cleaned, columns=['Sex', 'Embarked'], drop_first=True)\n"
   ]
  },
  {
   "cell_type": "code",
   "execution_count": null,
   "id": "fc9bb85f",
   "metadata": {},
   "outputs": [],
   "source": [
    "numerical_cols = ['Age', 'Fare']\n",
    "scaler = StandardScaler()\n",
    "df_encoded[numerical_cols] = scaler.fit_transform(df_encoded[numerical_cols])\n"
   ]
  },
  {
   "cell_type": "code",
   "execution_count": null,
   "id": "e24b69b4",
   "metadata": {},
   "outputs": [],
   "source": [
    "\n",
    "plt.figure(figsize=(10, 5))\n",
    "for i, col in enumerate(numerical_cols):\n",
    "    plt.subplot(1, 2, i + 1)\n",
    "    sns.boxplot(data=df_encoded, y=col)\n",
    "    plt.title(f'Boxplot of {col}')\n",
    "plt.tight_layout()\n",
    "plt.show()\n",
    "for col in numerical_cols:\n",
    "    Q1 = df_encoded[col].quantile(0.25)\n",
    "    Q3 = df_encoded[col].quantile(0.75)\n",
    "    IQR = Q3 - Q1\n",
    "    lower_bound = Q1 - 1.5 * IQR\n",
    "\n",
    "\n",
    "\n",
    "    \n",
    "    upper_bound = Q3 + 1.5 * IQR\n",
    "    df_encoded = df_encoded[(df_encoded[col] >= lower_bound) & (df_encoded[col] <= upper_bound)]\n",
    "\n",
    "# Final Data Preview\n",
    "print(\"\\nCleaned & Preprocessed Data Sample:\\n\")\n",
    "print(df_encoded.head())"
   ]
  }
 ],
 "metadata": {
  "kernelspec": {
   "display_name": "base",
   "language": "python",
   "name": "python3"
  },
  "language_info": {
   "codemirror_mode": {
    "name": "ipython",
    "version": 3
   },
   "file_extension": ".py",
   "mimetype": "text/x-python",
   "name": "python",
   "nbconvert_exporter": "python",
   "pygments_lexer": "ipython3",
   "version": "3.12.3"
  }
 },
 "nbformat": 4,
 "nbformat_minor": 5
}
